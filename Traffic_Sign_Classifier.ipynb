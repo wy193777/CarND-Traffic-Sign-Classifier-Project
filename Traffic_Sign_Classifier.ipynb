{
 "cells": [
  {
   "cell_type": "markdown",
   "metadata": {},
   "source": [
    "# Self-Driving Car Engineer Nanodegree\n",
    "\n",
    "## Deep Learning\n",
    "\n",
    "## Project: Build a Traffic Sign Recognition Classifier\n",
    "\n",
    "In this notebook, a template is provided for you to implement your functionality in stages, which is required to successfully complete this project. If additional code is required that cannot be included in the notebook, be sure that the Python code is successfully imported and included in your submission if necessary. \n",
    "\n",
    "> **Note**: Once you have completed all of the code implementations, you need to finalize your work by exporting the iPython Notebook as an HTML document. Before exporting the notebook to html, all of the code cells need to have been run so that reviewers can see the final implementation and output. You can then export the notebook by using the menu above and navigating to  \\n\",\n",
    "    \"**File -> Download as -> HTML (.html)**. Include the finished document along with this notebook as your submission. \n",
    "\n",
    "In addition to implementing code, there is a writeup to complete. The writeup should be completed in a separate file, which can be either a markdown file or a pdf document. There is a [write up template](https://github.com/udacity/CarND-Traffic-Sign-Classifier-Project/blob/master/writeup_template.md) that can be used to guide the writing process. Completing the code template and writeup template will cover all of the [rubric points](https://review.udacity.com/#!/rubrics/481/view) for this project.\n",
    "\n",
    "The [rubric](https://review.udacity.com/#!/rubrics/481/view) contains \"Stand Out Suggestions\" for enhancing the project beyond the minimum requirements. The stand out suggestions are optional. If you decide to pursue the \"stand out suggestions\", you can include the code in this Ipython notebook and also discuss the results in the writeup file.\n",
    "\n",
    "\n",
    ">**Note:** Code and Markdown cells can be executed using the **Shift + Enter** keyboard shortcut. In addition, Markdown cells can be edited by typically double-clicking the cell to enter edit mode."
   ]
  },
  {
   "cell_type": "code",
   "execution_count": 1,
   "metadata": {},
   "outputs": [
    {
     "data": {
      "text/html": [
       "<style>.container { width:100% !important; }</style>"
      ],
      "text/plain": [
       "<IPython.core.display.HTML object>"
      ]
     },
     "metadata": {},
     "output_type": "display_data"
    }
   ],
   "source": [
    "from IPython.core.display import display, HTML\n",
    "display(HTML(\"<style>.container { width:100% !important; }</style>\"))"
   ]
  },
  {
   "cell_type": "markdown",
   "metadata": {},
   "source": [
    "---\n",
    "## Step 0: Load The Data"
   ]
  },
  {
   "cell_type": "code",
   "execution_count": 2,
   "metadata": {
    "collapsed": true
   },
   "outputs": [],
   "source": [
    "# Load pickled data\n",
    "import pickle\n",
    "import csv\n",
    "from os import listdir\n",
    "\n",
    "\n",
    "def load_sign_map(path='./signnames.csv'):\n",
    "    with open(path, newline='') as file:\n",
    "        signs = csv.reader(file)\n",
    "        num_sign_map = {row[0]: row[1] for row in signs}\n",
    "    return num_sign_map\n",
    "    \n",
    "# TODO: Fill this in based on where you saved the training and testing data\n",
    "\n",
    "training_file = 'traffic-signs-data/train.p'\n",
    "validation_file = 'traffic-signs-data/valid.p'\n",
    "testing_file = 'traffic-signs-data/test.p'\n",
    "\n",
    "with open(training_file, mode='rb') as f:\n",
    "    train = pickle.load(f)\n",
    "with open(validation_file, mode='rb') as f:\n",
    "    valid = pickle.load(f)\n",
    "with open(testing_file, mode='rb') as f:\n",
    "    test = pickle.load(f)\n",
    "    \n",
    "X_train, y_train = train['features'], train['labels']\n",
    "X_valid, y_valid = valid['features'], valid['labels']\n",
    "X_test, y_test = test['features'], test['labels']\n",
    "sign_map = load_sign_map()\n",
    "_ = sign_map.pop('ClassId')"
   ]
  },
  {
   "cell_type": "markdown",
   "metadata": {},
   "source": [
    "---\n",
    "\n",
    "## Step 1: Dataset Summary & Exploration\n",
    "\n",
    "The pickled data is a dictionary with 4 key/value pairs:\n",
    "\n",
    "- `'features'` is a 4D array containing raw pixel data of the traffic sign images, (num examples, width, height, channels).\n",
    "- `'labels'` is a 1D array containing the label/class id of the traffic sign. The file `signnames.csv` contains id -> name mappings for each id.\n",
    "- `'sizes'` is a list containing tuples, (width, height) representing the original width and height the image.\n",
    "- `'coords'` is a list containing tuples, (x1, y1, x2, y2) representing coordinates of a bounding box around the sign in the image. **THESE COORDINATES ASSUME THE ORIGINAL IMAGE. THE PICKLED DATA CONTAINS RESIZED VERSIONS (32 by 32) OF THESE IMAGES**\n",
    "\n",
    "Complete the basic data summary below. Use python, numpy and/or pandas methods to calculate the data summary rather than hard coding the results. For example, the [pandas shape method](http://pandas.pydata.org/pandas-docs/stable/generated/pandas.DataFrame.shape.html) might be useful for calculating some of the summary results. "
   ]
  },
  {
   "cell_type": "markdown",
   "metadata": {},
   "source": [
    "### Provide a Basic Summary of the Data Set Using Python, Numpy and/or Pandas"
   ]
  },
  {
   "cell_type": "code",
   "execution_count": 3,
   "metadata": {},
   "outputs": [
    {
     "name": "stdout",
     "output_type": "stream",
     "text": [
      "Number of training examples = 34799\n",
      "Number of validation examples = 4410\n",
      "Number of testing examples = 12630\n",
      "Image data shape = (32, 32, 3)\n",
      "Number of classes = 43\n"
     ]
    }
   ],
   "source": [
    "### Replace each question mark with the appropriate value. \n",
    "### Use python, pandas or numpy methods rather than hard coding the results\n",
    "\n",
    "# TODO: Number of training examples\n",
    "n_train = len(X_train)\n",
    "\n",
    "# TODO: Number of validation examples\n",
    "n_validation = len(X_valid)\n",
    "\n",
    "# TODO: Number of testing examples.\n",
    "n_test = len(X_test)\n",
    "\n",
    "# TODO: What's the shape of an traffic sign image?\n",
    "image_shape = X_train[0].shape\n",
    "\n",
    "# TODO: How many unique classes/labels there are in the dataset.\n",
    "n_classes = len(sign_map)\n",
    "\n",
    "print(\"Number of training examples =\", n_train)\n",
    "print(\"Number of validation examples =\", n_validation)\n",
    "print(\"Number of testing examples =\", n_test)\n",
    "print(\"Image data shape =\", image_shape)\n",
    "print(\"Number of classes =\", n_classes)"
   ]
  },
  {
   "cell_type": "markdown",
   "metadata": {},
   "source": [
    "### Include an exploratory visualization of the dataset"
   ]
  },
  {
   "cell_type": "markdown",
   "metadata": {},
   "source": [
    "Visualize the German Traffic Signs Dataset using the pickled file(s). This is open ended, suggestions include: plotting traffic sign images, plotting the count of each sign, etc. \n",
    "\n",
    "The [Matplotlib](http://matplotlib.org/) [examples](http://matplotlib.org/examples/index.html) and [gallery](http://matplotlib.org/gallery.html) pages are a great resource for doing visualizations in Python.\n",
    "\n",
    "**NOTE:** It's recommended you start with something simple first. If you wish to do more, come back to it after you've completed the rest of the sections. It can be interesting to look at the distribution of classes in the training, validation and test set. Is the distribution the same? Are there more examples of some classes than others?"
   ]
  },
  {
   "cell_type": "code",
   "execution_count": 4,
   "metadata": {},
   "outputs": [
    {
     "data": {
      "image/png": "[encoded data removed]",
      "text/plain": [
       "<matplotlib.figure.Figure at 0x7f2eac48f588>"
      ]
     },
     "metadata": {},
     "output_type": "display_data"
    }
   ],
   "source": [
    "### Data exploration visualization code goes here.\n",
    "### Feel free to use as many code cells as needed.\n",
    "import random\n",
    "import numpy as np\n",
    "import matplotlib.pyplot as plt\n",
    "from collections import Counter\n",
    "# Visualizations will be shown in the notebook.\n",
    "%matplotlib inline\n",
    "\n",
    "fig, (ax0, ax1) = plt.subplots(2, 1, sharex=True)\n",
    "#histogram of the data\n",
    "ax0.hist(y_train,n_classes,normed=1)\n",
    "ax0.set_xlabel('train_data')\n",
    "ax0.set_ylabel('Density')\n",
    "ax0.set_title('Histogram of train data')\n",
    "\n",
    "ax1.hist(y_valid,n_classes,normed=1)\n",
    "ax1.set_xlabel('validation_data')\n",
    "ax1.set_ylabel('Density')\n",
    "ax1.set_title('Histogram of validation data')\n",
    "\n",
    "fig.tight_layout()\n",
    "plt.show()\n"
   ]
  },
  {
   "cell_type": "markdown",
   "metadata": {},
   "source": [
    "----\n",
    "\n",
    "## Step 2: Design and Test a Model Architecture\n",
    "\n",
    "Design and implement a deep learning model that learns to recognize traffic signs. Train and test your model on the [German Traffic Sign Dataset](http://benchmark.ini.rub.de/?section=gtsrb&subsection=dataset).\n",
    "\n",
    "The LeNet-5 implementation shown in the [classroom](https://classroom.udacity.com/nanodegrees/nd013/parts/fbf77062-5703-404e-b60c-95b78b2f3f9e/modules/6df7ae49-c61c-4bb2-a23e-6527e69209ec/lessons/601ae704-1035-4287-8b11-e2c2716217ad/concepts/d4aca031-508f-4e0b-b493-e7b706120f81) at the end of the CNN lesson is a solid starting point. You'll have to change the number of classes and possibly the preprocessing, but aside from that it's plug and play! \n",
    "\n",
    "With the LeNet-5 solution from the lecture, you should expect a validation set accuracy of about 0.89. To meet specifications, the validation set accuracy will need to be at least 0.93. It is possible to get an even higher accuracy, but 0.93 is the minimum for a successful project submission. \n",
    "\n",
    "There are various aspects to consider when thinking about this problem:\n",
    "\n",
    "- Neural network architecture (is the network over or underfitting?)\n",
    "- Play around preprocessing techniques (normalization, rgb to grayscale, etc)\n",
    "- Number of examples per label (some have more than others).\n",
    "- Generate fake data.\n",
    "\n",
    "Here is an example of a [published baseline model on this problem](http://yann.lecun.com/exdb/publis/pdf/sermanet-ijcnn-11.pdf). It's not required to be familiar with the approach used in the paper but, it's good practice to try to read papers like these."
   ]
  },
  {
   "cell_type": "markdown",
   "metadata": {},
   "source": [
    "### Pre-process the Data Set (normalization, grayscale, etc.)"
   ]
  },
  {
   "cell_type": "markdown",
   "metadata": {},
   "source": [
    "Minimally, the image data should be normalized so that the data has mean zero and equal variance. For image data, `(pixel - 128)/ 128` is a quick way to approximately normalize the data and can be used in this project. \n",
    "\n",
    "Other pre-processing steps are optional. You can try different techniques to see if it improves performance. \n",
    "\n",
    "Use the code cell (or multiple code cells, if necessary) to implement the first step of your project."
   ]
  },
  {
   "cell_type": "code",
   "execution_count": 5,
   "metadata": {
    "collapsed": true
   },
   "outputs": [],
   "source": [
    "import cv2\n",
    "\n",
    "def transform_image(img, ang_range, shear_range, trans_range):\n",
    "    '''\n",
    "    This function transforms images to generate new images.\n",
    "    The function takes in following arguments,\n",
    "    1- Image\n",
    "    2- ang_range: Range of angles for rotation\n",
    "    3- shear_range: Range of values to apply affine transform to\n",
    "    4- trans_range: Range of values to apply translations over. \n",
    "    \n",
    "    A Random uniform distribution is used to generate different parameters for transformation\n",
    "    \n",
    "    '''\n",
    "    # Rotation\n",
    "\n",
    "    ang_rot = np.random.uniform(ang_range) - ang_range / 2\n",
    "    rows,cols,ch = img.shape    \n",
    "    Rot_M = cv2.getRotationMatrix2D((cols / 2, rows / 2), ang_rot, 1)\n",
    "\n",
    "    # Translation\n",
    "    tr_x = trans_range * np.random.uniform() - trans_range / 2\n",
    "    tr_y = trans_range * np.random.uniform() - trans_range / 2\n",
    "    Trans_M = np.float32([[1, 0, tr_x], [0, 1, tr_y]])\n",
    "\n",
    "    # Shear\n",
    "    pts1 = np.float32([[5, 5], [20, 5], [5, 20]])\n",
    "\n",
    "    pt1 = 5 + shear_range * np.random.uniform() - shear_range / 2\n",
    "    pt2 = 20 + shear_range * np.random.uniform() - shear_range / 2\n",
    "       \n",
    "\n",
    "    pts2 = np.float32([[pt1, 5], [pt2, pt1], [5, pt2]])\n",
    "\n",
    "    shear_M = cv2.getAffineTransform(pts1, pts2)\n",
    "        \n",
    "    img = cv2.warpAffine(img, Rot_M, (cols, rows))\n",
    "    img = cv2.warpAffine(img, Trans_M, (cols, rows))\n",
    "    img = cv2.warpAffine(img, shear_M, (cols, rows))\n",
    "    \n",
    "    return img"
   ]
  },
  {
   "cell_type": "code",
   "execution_count": 6,
   "metadata": {},
   "outputs": [
    {
     "name": "stdout",
     "output_type": "stream",
     "text": [
      "\n",
      "Image Shape: (32, 32, 3)\n",
      "\n",
      "Training Set:   278392 samples\n",
      "Training Labels:   278392 labels\n",
      "Validation Set: 4410 samples\n",
      "Test Set:       12630 samples\n"
     ]
    }
   ],
   "source": [
    "X_train_original = X_train\n",
    "y_train_original = y_train\n",
    "\n",
    "\n",
    "def augment_dataset(X, y, aug_count):\n",
    "    X_augmented = []\n",
    "    y_augmented = []\n",
    "\n",
    "    for idx, image in enumerate(X):\n",
    "        X_augmented.append(image)\n",
    "        y_augmented.append(y[idx])\n",
    "        for _ in range(aug_count): \n",
    "            X_augmented.append(transform_image(image, 15, 8, 3)) \n",
    "            y_augmented.append(y[idx])\n",
    "    return X_augmented, y_augmented\n",
    "\n",
    "X_train_augmented, y_train_augmented = augment_dataset(\n",
    "    X_train_original, y_train_original, 7)\n",
    "\n",
    "\n",
    "print()\n",
    "print(\"Image Shape: {}\".format(X_train_augmented[0].shape))\n",
    "print()\n",
    "print(\"Training Set:   {} samples\".format(len(X_train_augmented)))\n",
    "print(\"Training Labels:   {} labels\".format(len(y_train_augmented)))\n",
    "print(\"Validation Set: {} samples\".format(len(X_valid)))\n",
    "print(\"Test Set:       {} samples\".format(len(X_test)))\n",
    "\n",
    "X_train = np.asarray(X_train_augmented)\n",
    "y_train = np.asarray(y_train_augmented)"
   ]
  },
  {
   "cell_type": "code",
   "execution_count": 7,
   "metadata": {},
   "outputs": [],
   "source": [
    "### Preprocess the data here. It is required to normalize the data. Other preprocessing steps could include \n",
    "### converting to grayscale, etc.\n",
    "### Feel free to use as many code cells as needed.\n",
    "from sklearn.utils import shuffle\n",
    "import tensorflow as tf\n",
    "import matplotlib.image as mpimg\n",
    "\n",
    "\n",
    "def rgb2gray(X):\n",
    "    n = len(X)\n",
    "    gray_images = np.zeros((n, 32, 32),dtype=np.uint8) \n",
    "    cl1 = np.zeros((n, 32, 32),dtype=np.uint8) \n",
    "    for idx in range(n):\n",
    "        gray_images[idx] = cv2.cvtColor(X[idx], cv2.COLOR_RGB2GRAY)\n",
    "        \n",
    "    gray_images = gray_images.reshape(n, 32, 32, 1)\n",
    "    return gray_images\n",
    "\n",
    "\n",
    "X_train = rgb2gray(X_train)\n",
    "X_valid = rgb2gray(X_valid)\n",
    "X_test = rgb2gray(X_test)"
   ]
  },
  {
   "cell_type": "code",
   "execution_count": 8,
   "metadata": {},
   "outputs": [
    {
     "name": "stdout",
     "output_type": "stream",
     "text": [
      "(278392, 32, 32, 1)\n",
      "(278392,)\n"
     ]
    }
   ],
   "source": [
    "\n",
    "\n",
    "X_train = (X_train - 128.0) / 128.0\n",
    "X_valid = (X_valid - 128.0) / 128.0\n",
    "X_test = (X_test - 128.0) / 128.0\n",
    "print(X_train.shape)\n",
    "print(y_train.shape)\n",
    "import tensorflow as tf"
   ]
  },
  {
   "cell_type": "markdown",
   "metadata": {},
   "source": [
    "### Model Architecture"
   ]
  },
  {
   "cell_type": "code",
   "execution_count": 9,
   "metadata": {
    "collapsed": true
   },
   "outputs": [],
   "source": [
    "from tensorflow.contrib.layers import flatten\n",
    "\n",
    "def conv2d(x, W, b, strides=1):\n",
    "    x = tf.nn.conv2d(x, W, strides=[1, strides, strides, 1], padding='VALID') + b\n",
    "    return tf.nn.relu(x)\n",
    "\n",
    "\n",
    "def maxpool2d(x, k=2):\n",
    "    return tf.nn.max_pool(\n",
    "        x,\n",
    "        ksize=[1, k, k, 1],\n",
    "        strides=[1, k, k, 1],\n",
    "        padding='VALID')\n",
    "\n",
    "def geny_weight(shape, mu, sigma):\n",
    "    return tf.truncated_normal(shape=shape, mean = mu, stddev = sigma)\n",
    "\n",
    "\n",
    "def fully_connected(x, W, b, relu=True):\n",
    "    fc = tf.matmul(x, W) + b\n",
    "    if relu:\n",
    "        return tf.nn.relu(fc)\n",
    "    else:\n",
    "        return fc\n",
    "\n",
    "\n",
    "def LeNet(x):    \n",
    "    # Arguments used for tf.truncated_normal, randomly defines variables for the weights and biases for each layer\n",
    "    mu = 0\n",
    "    sigma = 0.05\n",
    "    print(\"x shape: {}\".format(x.get_shape().as_list()))\n",
    "    weights = {\n",
    "        'wc1': tf.Variable(geny_weight((5, 5, 1, 6), mu, sigma), name='wc1'),\n",
    "        'wc2': tf.Variable(geny_weight([5, 5, 6, 16], mu, sigma), name='wc2'),\n",
    "        'wf1': tf.Variable(geny_weight([400, 120], mu, sigma), name='wf1'),\n",
    "        'wf2': tf.Variable(geny_weight([120, 84], mu, sigma), name='wf2'),\n",
    "        'out': tf.Variable(geny_weight([84, 43], mu, sigma), name='wf3')\n",
    "    }\n",
    "    biases = {\n",
    "        'bc1': tf.Variable(tf.zeros(6), name='bc1'),\n",
    "        'bc2': tf.Variable(tf.zeros(16), name='bc2'),\n",
    "        'bf1': tf.Variable(tf.zeros(120), name='bf1'),\n",
    "        'bf2': tf.Variable(tf.zeros(84), name='bf2'),\n",
    "        'out': tf.Variable(tf.zeros(43), name='bf3')\n",
    "    }\n",
    "    \n",
    "    # TODO: Layer 1: Convolutional. Input = 32x32x1. Output = 28x28x6.\n",
    "    c1_out = conv2d(x, weights['wc1'], biases['bc1'])\n",
    "    \n",
    "    # TODO: Pooling. Input = 28x28x6. Output = 14x14x6.\n",
    "    c2_in = maxpool2d(c1_out)\n",
    "    \n",
    "    # TODO: Layer 2: Convolutional. Output = 10x10x16.\n",
    "    c2_out = conv2d(c2_in, weights['wc2'], biases['bc2'])\n",
    "    \n",
    "    # TODO: Pooling. Input = 10x10x16. Output = 5x5x16.\n",
    "    flatten_in = maxpool2d(c2_out)\n",
    "    \n",
    "    # TODO: Flatten. Input = 5x5x16. Output = 400.\n",
    "    fc1_in = flatten(flatten_in)\n",
    "    \n",
    "    # TODO: Layer 3: Fully Connected. Input = 400. Output = 120.\n",
    "    fc1_out = fully_connected(fc1_in, weights['wf1'], biases['bf1'])\n",
    "    \n",
    "    # TODO: Layer 4: Fully Connected. Input = 120. Output = 84.\n",
    "    fc2_out = fully_connected(fc1_out, weights['wf2'], biases['bf2'])\n",
    "    \n",
    "    # TODO: Layer 5: Fully Connected. Input = 84. Output = 10.\n",
    "    fc2_out = tf.nn.dropout(fc2_out, 0.75)\n",
    "    logits = fully_connected(fc2_out, weights['out'], biases['out'], relu=False)\n",
    "    return logits"
   ]
  },
  {
   "cell_type": "markdown",
   "metadata": {},
   "source": [
    "### Train, Validate and Test the Model"
   ]
  },
  {
   "cell_type": "markdown",
   "metadata": {},
   "source": [
    "A validation set can be used to assess how well the model is performing. A low accuracy on the training and validation\n",
    "sets imply underfitting. A high accuracy on the training set but low accuracy on the validation set implies overfitting."
   ]
  },
  {
   "cell_type": "markdown",
   "metadata": {},
   "source": [
    "## Training Pipeline"
   ]
  },
  {
   "cell_type": "code",
   "execution_count": 10,
   "metadata": {},
   "outputs": [
    {
     "name": "stdout",
     "output_type": "stream",
     "text": [
      "x shape: [None, 32, 32, 1]\n"
     ]
    }
   ],
   "source": [
    "### Train your model here.\n",
    "### Calculate and report the accuracy on the training and validation set.\n",
    "### Once a final model architecture is selected, \n",
    "### the accuracy on the test set should be calculated and reported as well.\n",
    "### Feel free to use as many code cells as needed.\n",
    "x = tf.placeholder(tf.float32, (None, 32, 32, 1))\n",
    "y = tf.placeholder(tf.int32, (None))\n",
    "one_hot_y = tf.one_hot(y, 43)\n",
    "\n",
    "rate = 0.005\n",
    "\n",
    "logits = LeNet(x)\n",
    "cross_entropy = tf.nn.softmax_cross_entropy_with_logits(labels=one_hot_y, logits=logits)\n",
    "loss_operation = tf.reduce_mean(cross_entropy)\n",
    "optimizer = tf.train.AdamOptimizer(learning_rate = rate)\n",
    "training_operation = optimizer.minimize(loss_operation)\n"
   ]
  },
  {
   "cell_type": "markdown",
   "metadata": {},
   "source": [
    "## Model Evaluation"
   ]
  },
  {
   "cell_type": "code",
   "execution_count": 11,
   "metadata": {},
   "outputs": [],
   "source": [
    "correct_prediction = tf.equal(tf.argmax(logits, 1), tf.argmax(one_hot_y, 1))\n",
    "accuracy_operation = tf.reduce_mean(tf.cast(correct_prediction, tf.float32))\n",
    "\n",
    "\n",
    "EPOCHS = 50\n",
    "BATCH_SIZE = 512\n",
    "\n",
    "\n",
    "def evaluate(X_data, y_data):\n",
    "    num_examples = len(X_data)\n",
    "    total_accuracy = 0\n",
    "    total_loss = 0\n",
    "    sess = tf.get_default_session()\n",
    "    for offset in range(0, num_examples, BATCH_SIZE):\n",
    "        batch_x, batch_y = X_data[offset:offset+BATCH_SIZE], y_data[offset:offset+BATCH_SIZE]\n",
    "        accuracy, loss = sess.run(\n",
    "            [accuracy_operation, loss_operation], feed_dict={x: batch_x, y: batch_y})\n",
    "        total_accuracy += (accuracy * len(batch_x))\n",
    "        total_loss += (loss * len(batch_x))\n",
    "    return total_accuracy / num_examples, total_loss / num_examples"
   ]
  },
  {
   "cell_type": "markdown",
   "metadata": {},
   "source": [
    "## Train the Model"
   ]
  },
  {
   "cell_type": "code",
   "execution_count": 12,
   "metadata": {},
   "outputs": [
    {
     "name": "stdout",
     "output_type": "stream",
     "text": [
      "Training...\n",
      "\n",
      "EPOCH 1 ...\n",
      "Training Accuracy = 0.691, \n",
      "Validation Accuracy = 0.751\n",
      "\n",
      "EPOCH 2 ...\n",
      "Training Accuracy = 0.786, \n",
      "Validation Accuracy = 0.824\n",
      "\n",
      "EPOCH 3 ...\n",
      "Training Accuracy = 0.812, \n",
      "Validation Accuracy = 0.842\n",
      "\n",
      "EPOCH 4 ...\n",
      "Training Accuracy = 0.835, \n",
      "Validation Accuracy = 0.858\n",
      "\n",
      "EPOCH 5 ...\n",
      "Training Accuracy = 0.842, \n",
      "Validation Accuracy = 0.859\n",
      "\n",
      "EPOCH 6 ...\n",
      "Training Accuracy = 0.868, \n",
      "Validation Accuracy = 0.881\n",
      "\n",
      "EPOCH 7 ...\n",
      "Training Accuracy = 0.870, \n",
      "Validation Accuracy = 0.882\n",
      "\n",
      "EPOCH 8 ...\n",
      "Training Accuracy = 0.876, \n",
      "Validation Accuracy = 0.903\n",
      "\n",
      "EPOCH 9 ...\n",
      "Training Accuracy = 0.875, \n",
      "Validation Accuracy = 0.887\n",
      "\n",
      "EPOCH 10 ...\n",
      "Training Accuracy = 0.886, \n",
      "Validation Accuracy = 0.911\n",
      "\n",
      "EPOCH 11 ...\n",
      "Training Accuracy = 0.902, \n",
      "Validation Accuracy = 0.909\n",
      "\n",
      "EPOCH 12 ...\n",
      "Training Accuracy = 0.901, \n",
      "Validation Accuracy = 0.914\n",
      "\n",
      "EPOCH 13 ...\n",
      "Training Accuracy = 0.907, \n",
      "Validation Accuracy = 0.932\n",
      "\n",
      "EPOCH 14 ...\n",
      "Training Accuracy = 0.904, \n",
      "Validation Accuracy = 0.913\n",
      "\n",
      "EPOCH 15 ...\n",
      "Training Accuracy = 0.902, \n",
      "Validation Accuracy = 0.912\n",
      "\n",
      "EPOCH 16 ...\n",
      "Training Accuracy = 0.902, \n",
      "Validation Accuracy = 0.908\n",
      "\n",
      "EPOCH 17 ...\n",
      "Training Accuracy = 0.915, \n",
      "Validation Accuracy = 0.913\n",
      "\n",
      "EPOCH 18 ...\n",
      "Training Accuracy = 0.917, \n",
      "Validation Accuracy = 0.916\n",
      "\n",
      "EPOCH 19 ...\n",
      "Training Accuracy = 0.919, \n",
      "Validation Accuracy = 0.926\n",
      "\n",
      "EPOCH 20 ...\n",
      "Training Accuracy = 0.922, \n",
      "Validation Accuracy = 0.926\n",
      "\n",
      "EPOCH 21 ...\n",
      "Training Accuracy = 0.923, \n",
      "Validation Accuracy = 0.926\n",
      "\n",
      "EPOCH 22 ...\n",
      "Training Accuracy = 0.915, \n",
      "Validation Accuracy = 0.926\n",
      "\n",
      "EPOCH 23 ...\n",
      "Training Accuracy = 0.915, \n",
      "Validation Accuracy = 0.916\n",
      "\n",
      "EPOCH 24 ...\n",
      "Training Accuracy = 0.919, \n",
      "Validation Accuracy = 0.929\n",
      "\n",
      "EPOCH 25 ...\n",
      "Training Accuracy = 0.931, \n",
      "Validation Accuracy = 0.935\n",
      "\n",
      "EPOCH 26 ...\n",
      "Training Accuracy = 0.925, \n",
      "Validation Accuracy = 0.928\n",
      "\n",
      "EPOCH 27 ...\n",
      "Training Accuracy = 0.924, \n",
      "Validation Accuracy = 0.924\n",
      "\n",
      "EPOCH 28 ...\n",
      "Training Accuracy = 0.916, \n",
      "Validation Accuracy = 0.904\n",
      "\n",
      "EPOCH 29 ...\n",
      "Training Accuracy = 0.927, \n",
      "Validation Accuracy = 0.924\n",
      "\n",
      "EPOCH 30 ...\n",
      "Training Accuracy = 0.933, \n",
      "Validation Accuracy = 0.931\n",
      "\n",
      "EPOCH 31 ...\n",
      "Training Accuracy = 0.921, \n",
      "Validation Accuracy = 0.929\n",
      "\n",
      "EPOCH 32 ...\n",
      "Training Accuracy = 0.935, \n",
      "Validation Accuracy = 0.937\n",
      "\n",
      "EPOCH 33 ...\n",
      "Training Accuracy = 0.925, \n",
      "Validation Accuracy = 0.935\n",
      "\n",
      "EPOCH 34 ...\n",
      "Training Accuracy = 0.936, \n",
      "Validation Accuracy = 0.940\n",
      "\n",
      "EPOCH 35 ...\n",
      "Training Accuracy = 0.930, \n",
      "Validation Accuracy = 0.937\n",
      "\n",
      "EPOCH 36 ...\n",
      "Training Accuracy = 0.926, \n",
      "Validation Accuracy = 0.905\n",
      "\n",
      "EPOCH 37 ...\n",
      "Training Accuracy = 0.931, \n",
      "Validation Accuracy = 0.928\n",
      "\n",
      "EPOCH 38 ...\n",
      "Training Accuracy = 0.934, \n",
      "Validation Accuracy = 0.941\n",
      "\n",
      "EPOCH 39 ...\n",
      "Training Accuracy = 0.932, \n",
      "Validation Accuracy = 0.930\n",
      "\n",
      "EPOCH 40 ...\n",
      "Training Accuracy = 0.933, \n",
      "Validation Accuracy = 0.931\n",
      "\n",
      "EPOCH 41 ...\n",
      "Training Accuracy = 0.937, \n",
      "Validation Accuracy = 0.942\n",
      "\n",
      "EPOCH 42 ...\n",
      "Training Accuracy = 0.933, \n",
      "Validation Accuracy = 0.935\n",
      "\n",
      "EPOCH 43 ...\n",
      "Training Accuracy = 0.939, \n",
      "Validation Accuracy = 0.943\n",
      "\n",
      "EPOCH 44 ...\n",
      "Training Accuracy = 0.939, \n",
      "Validation Accuracy = 0.931\n",
      "\n",
      "EPOCH 45 ...\n",
      "Training Accuracy = 0.941, \n",
      "Validation Accuracy = 0.934\n",
      "\n",
      "EPOCH 46 ...\n",
      "Training Accuracy = 0.932, \n",
      "Validation Accuracy = 0.931\n",
      "\n",
      "EPOCH 47 ...\n",
      "Training Accuracy = 0.930, \n",
      "Validation Accuracy = 0.918\n",
      "\n",
      "EPOCH 48 ...\n",
      "Training Accuracy = 0.939, \n",
      "Validation Accuracy = 0.939\n",
      "\n",
      "EPOCH 49 ...\n",
      "Training Accuracy = 0.937, \n",
      "Validation Accuracy = 0.929\n",
      "\n",
      "EPOCH 50 ...\n",
      "Training Accuracy = 0.942, \n",
      "Validation Accuracy = 0.934\n",
      "\n",
      "Model saved\n"
     ]
    }
   ],
   "source": [
    "\n",
    "\n",
    "train_loss_history = []\n",
    "validation_loss_history = []\n",
    "train_accuracy_history = []\n",
    "validation_accuracy_history = []\n",
    "\n",
    "saver = tf.train.Saver()\n",
    "\n",
    "with tf.Session() as sess:\n",
    "    sess.run(tf.global_variables_initializer())\n",
    "    num_examples = len(X_train)\n",
    "    \n",
    "    print(\"Training...\")\n",
    "    print()\n",
    "    for i in range(EPOCHS):\n",
    "        X_train, y_train = shuffle(X_train, y_train)\n",
    "        for offset in range(0, num_examples, BATCH_SIZE):\n",
    "            end = offset + BATCH_SIZE\n",
    "            batch_x, batch_y = X_train[offset:end], y_train[offset:end]\n",
    "            sess.run(training_operation, feed_dict={x: batch_x, y: batch_y})\n",
    "            \n",
    "        train_accuracy, train_loss = evaluate(X_train, y_train)\n",
    "        train_loss_history.append(train_loss)\n",
    "        train_accuracy_history.append(train_accuracy)\n",
    "        \n",
    "        validation_accuracy, validation_loss = evaluate(X_valid, y_valid)\n",
    "        validation_loss_history.append(validation_loss)\n",
    "        validation_accuracy_history.append(validation_accuracy)\n",
    "        \n",
    "        print(\"EPOCH {} ...\".format(i+1))\n",
    "        print(\"Training Accuracy = {:.3f}, \".format(train_accuracy))\n",
    "        print(\"Validation Accuracy = {:.3f}\".format(validation_accuracy))\n",
    "        print()\n",
    "        \n",
    "    saver.save(sess, './lenet')\n",
    "    print(\"Model saved\")"
   ]
  },
  {
   "cell_type": "code",
   "execution_count": 13,
   "metadata": {},
   "outputs": [
    {
     "data": {
      "text/plain": [
       "<matplotlib.legend.Legend at 0x7f2e54574be0>"
      ]
     },
     "execution_count": 13,
     "metadata": {},
     "output_type": "execute_result"
    },
    {
     "data": {
      "image/png": "[encoded data removed]",
      "text/plain": [
       "<matplotlib.figure.Figure at 0x7f2e01514240>"
      ]
     },
     "metadata": {},
     "output_type": "display_data"
    }
   ],
   "source": [
    "loss_plot = plt.subplot(1,1,1)\n",
    "loss_plot.set_title('Loss')\n",
    "loss_plot.plot(train_loss_history, 'r', label='Training Loss')\n",
    "loss_plot.plot(validation_loss_history, 'b', label='Validation Loss')\n",
    "loss_plot.set_xlim([0, EPOCHS])\n",
    "loss_plot.legend(loc=1)"
   ]
  },
  {
   "cell_type": "code",
   "execution_count": 14,
   "metadata": {},
   "outputs": [
    {
     "data": {
      "text/plain": [
       "<matplotlib.legend.Legend at 0x7f2e544c7ef0>"
      ]
     },
     "execution_count": 14,
     "metadata": {},
     "output_type": "execute_result"
    },
    {
     "data": {
      "image/png": "[encoded data removed]",
      "text/plain": [
       "<matplotlib.figure.Figure at 0x7f2e79a8ee80>"
      ]
     },
     "metadata": {},
     "output_type": "display_data"
    }
   ],
   "source": [
    "\n",
    "## This code is to valid that overfitting doesn't take place\n",
    "acc_plot = plt.subplot(1,1,1)\n",
    "acc_plot.set_title('Accuracy')\n",
    "acc_plot.plot(train_accuracy_history, 'r', label='Training Accuracy')\n",
    "acc_plot.plot(validation_accuracy_history, 'b', label='Validation Accuracy')\n",
    "acc_plot.set_xlim([0, 50])\n",
    "acc_plot.legend(loc=4)"
   ]
  },
  {
   "cell_type": "markdown",
   "metadata": {},
   "source": [
    "## Test on testing set"
   ]
  },
  {
   "cell_type": "code",
   "execution_count": 15,
   "metadata": {},
   "outputs": [
    {
     "name": "stdout",
     "output_type": "stream",
     "text": [
      "Test accuracy is 0.9075217731302915\n"
     ]
    }
   ],
   "source": [
    "import tensorflow as tf\n",
    "\n",
    "with tf.Session() as sess:\n",
    "    saver.restore(sess, tf.train.latest_checkpoint('.'))\n",
    "    test_accuracy, test_lost = evaluate(X_test, y_test)\n",
    "\n",
    "print('Test accuracy is {}'.format(test_accuracy))"
   ]
  },
  {
   "cell_type": "markdown",
   "metadata": {},
   "source": [
    "---\n",
    "\n",
    "## Step 3: Test a Model on New Images\n",
    "\n",
    "To give yourself more insight into how your model is working, download at least five pictures of German traffic signs from the web and use your model to predict the traffic sign type.\n",
    "\n",
    "You may find `signnames.csv` useful as it contains mappings from the class id (integer) to the actual sign name."
   ]
  },
  {
   "cell_type": "markdown",
   "metadata": {},
   "source": [
    "### Load and Output the Images"
   ]
  },
  {
   "cell_type": "code",
   "execution_count": 16,
   "metadata": {
    "collapsed": true
   },
   "outputs": [],
   "source": [
    "def resize(image):\n",
    "    result = cv2.resize(image, (32, 32), interpolation=cv2.INTER_AREA)\n",
    "    return result"
   ]
  },
  {
   "cell_type": "code",
   "execution_count": 17,
   "metadata": {},
   "outputs": [
    {
     "data": {
      "image/png": "[encoded data removed]",
      "text/plain": [
       "<matplotlib.figure.Figure at 0x7f2e54519160>"
      ]
     },
     "metadata": {},
     "output_type": "display_data"
    },
    {
     "data": {
      "image/png": "[encoded data removed]",
      "text/plain": [
       "<matplotlib.figure.Figure at 0x7f2e544c0470>"
      ]
     },
     "metadata": {},
     "output_type": "display_data"
    },
    {
     "data": {
      "image/png": "[encoded data removed]",
      "text/plain": [
       "<matplotlib.figure.Figure at 0x7f2e5444def0>"
      ]
     },
     "metadata": {},
     "output_type": "display_data"
    },
    {
     "data": {
      "image/png": "[encoded data removed]",
      "text/plain": [
       "<matplotlib.figure.Figure at 0x7f2e543dc710>"
      ]
     },
     "metadata": {},
     "output_type": "display_data"
    },
    {
     "data": {
      "image/png": "[encoded data removed]",
      "text/plain": [
       "<matplotlib.figure.Figure at 0x7f2e543f1588>"
      ]
     },
     "metadata": {},
     "output_type": "display_data"
    }
   ],
   "source": [
    "### Load the images and plot them here.\n",
    "### Feel free to use as many code cells as needed.\n",
    "import glob\n",
    "\n",
    "file_names = sorted(glob.glob('examples/tests/*.jpg'))\n",
    "X_toy_test_original = [cv2.imread(path, 0) for path in file_names]\n",
    "y_toy_test = np.asarray([29, 18, 2, 4, 13])\n",
    "X_toy_test = np.asarray(X_toy_test_original)\n",
    "X_toy_test = np.asarray([resize(image) for image in X_toy_test_original])\n",
    "for image in X_toy_test:\n",
    "    plt.figure()\n",
    "    plt.imshow(image, cmap=\"gray\")"
   ]
  },
  {
   "cell_type": "markdown",
   "metadata": {},
   "source": [
    "### Predict the Sign Type for Each Image"
   ]
  },
  {
   "cell_type": "code",
   "execution_count": 38,
   "metadata": {
    "collapsed": true
   },
   "outputs": [],
   "source": [
    "### Run the predictions here and use the model to output the prediction for each image.\n",
    "### Make sure to pre-process the images with the same pre-processing pipeline used earlier.\n",
    "### Feel free to use as many code cells as needed.\n",
    "with tf.Session() as sess:\n",
    "    saver.restore(sess, tf.train.latest_checkpoint('.'))\n",
    "    toy_test_accuracy, toy_test_loss = evaluate(X_toy_test.reshape(5, 32, 32, 1), y_toy_test)"
   ]
  },
  {
   "cell_type": "markdown",
   "metadata": {},
   "source": [
    "### Analyze Performance"
   ]
  },
  {
   "cell_type": "code",
   "execution_count": 39,
   "metadata": {},
   "outputs": [
    {
     "name": "stdout",
     "output_type": "stream",
     "text": [
      "New Test Data Accuracy = 0.4000000059604645\n"
     ]
    }
   ],
   "source": [
    "### Calculate the accuracy for these 5 new images. \n",
    "### For example, if the model predicted 1 out of 5 signs correctly, \n",
    "### it's 20% accurate on these new images.\n",
    "print(\"New Test Data Accuracy = {}\".format(toy_test_accuracy))"
   ]
  },
  {
   "cell_type": "markdown",
   "metadata": {},
   "source": [
    "### Output Top 5 Softmax Probabilities For Each Image Found on the Web"
   ]
  },
  {
   "cell_type": "markdown",
   "metadata": {},
   "source": [
    "For each of the new images, print out the model's softmax probabilities to show the **certainty** of the model's predictions (limit the output to the top 5 probabilities for each image). [`tf.nn.top_k`](https://www.tensorflow.org/versions/r0.12/api_docs/python/nn.html#top_k) could prove helpful here. \n",
    "\n",
    "The example below demonstrates how tf.nn.top_k can be used to find the top k predictions for each image.\n",
    "\n",
    "`tf.nn.top_k` will return the values and indices (class ids) of the top k predictions. So if k=3, for each sign, it'll return the 3 largest probabilities (out of a possible 43) and the correspoding class ids.\n",
    "\n",
    "Take this numpy array as an example. The values in the array represent predictions. The array contains softmax probabilities for five candidate images with six possible classes. `tf.nn.top_k` is used to choose the three classes with the highest probability:\n",
    "\n",
    "```\n",
    "# (5, 6) array\n",
    "a = np.array([[ 0.24879643,  0.07032244,  0.12641572,  0.34763842,  0.07893497,\n",
    "         0.12789202],\n",
    "       [ 0.28086119,  0.27569815,  0.08594638,  0.0178669 ,  0.18063401,\n",
    "         0.15899337],\n",
    "       [ 0.26076848,  0.23664738,  0.08020603,  0.07001922,  0.1134371 ,\n",
    "         0.23892179],\n",
    "       [ 0.11943333,  0.29198961,  0.02605103,  0.26234032,  0.1351348 ,\n",
    "         0.16505091],\n",
    "       [ 0.09561176,  0.34396535,  0.0643941 ,  0.16240774,  0.24206137,\n",
    "         0.09155967]])\n",
    "```\n",
    "\n",
    "Running it through `sess.run(tf.nn.top_k(tf.constant(a), k=3))` produces:\n",
    "\n",
    "```\n",
    "TopKV2(values=array([[ 0.34763842,  0.24879643,  0.12789202],\n",
    "       [ 0.28086119,  0.27569815,  0.18063401],\n",
    "       [ 0.26076848,  0.23892179,  0.23664738],\n",
    "       [ 0.29198961,  0.26234032,  0.16505091],\n",
    "       [ 0.34396535,  0.24206137,  0.16240774]]), indices=array([[3, 0, 5],\n",
    "       [0, 1, 4],\n",
    "       [0, 5, 1],\n",
    "       [1, 3, 5],\n",
    "       [1, 4, 3]], dtype=int32))\n",
    "```\n",
    "\n",
    "Looking just at the first row we get `[ 0.34763842,  0.24879643,  0.12789202]`, you can confirm these are the 3 largest probabilities in `a`. You'll also notice `[3, 0, 5]` are the corresponding indices."
   ]
  },
  {
   "cell_type": "code",
   "execution_count": 40,
   "metadata": {
    "collapsed": true
   },
   "outputs": [],
   "source": [
    "### Print out the top five softmax probabilities for the predictions on the German traffic sign images found on the web. \n",
    "### Feel free to use as many code cells as needed.\n",
    "y_pred = tf.nn.softmax(logits)\n",
    "pred = tf.nn.top_k(y_pred,k=5)\n",
    "with tf.Session() as sess:\n",
    "    saver.restore(sess, tf.train.latest_checkpoint('.'))\n",
    "    feed_dict = {x: X_toy_test.reshape(5, 32, 32, 1), y: y_toy_test}\n",
    "    top_5_pred = sess.run(pred, feed_dict=feed_dict)"
   ]
  },
  {
   "cell_type": "code",
   "execution_count": 41,
   "metadata": {},
   "outputs": [
    {
     "name": "stdout",
     "output_type": "stream",
     "text": [
      "[[  1.00000000e+00   0.00000000e+00   0.00000000e+00   0.00000000e+00\n",
      "    0.00000000e+00]\n",
      " [  1.00000000e+00   0.00000000e+00   0.00000000e+00   0.00000000e+00\n",
      "    0.00000000e+00]\n",
      " [  1.00000000e+00   0.00000000e+00   0.00000000e+00   0.00000000e+00\n",
      "    0.00000000e+00]\n",
      " [  9.99999881e-01   7.02209775e-08   8.96032838e-36   8.92757467e-36\n",
      "    0.00000000e+00]\n",
      " [  1.00000000e+00   0.00000000e+00   0.00000000e+00   0.00000000e+00\n",
      "    0.00000000e+00]]\n",
      "[[13  0  1  2  3]\n",
      " [18  0  1  2  3]\n",
      " [ 2  0  1  3  4]\n",
      " [ 0 19 28 23  1]\n",
      " [25  0  1  2  3]]\n"
     ]
    }
   ],
   "source": [
    "\n",
    "print(top_5_pred.values)\n",
    "print(top_5_pred.indices)"
   ]
  },
  {
   "cell_type": "markdown",
   "metadata": {},
   "source": [
    "### Project Writeup\n",
    "\n",
    "Once you have completed the code implementation, document your results in a project writeup using this [template](https://github.com/udacity/CarND-Traffic-Sign-Classifier-Project/blob/master/writeup_template.md) as a guide. The writeup can be in a markdown or pdf file. "
   ]
  },
  {
   "cell_type": "markdown",
   "metadata": {},
   "source": [
    "> **Note**: Once you have completed all of the code implementations and successfully answered each question above, you may finalize your work by exporting the iPython Notebook as an HTML document. You can do this by using the menu above and navigating to  \\n\",\n",
    "    \"**File -> Download as -> HTML (.html)**. Include the finished document along with this notebook as your submission."
   ]
  },
  {
   "cell_type": "markdown",
   "metadata": {},
   "source": [
    "---\n",
    "\n",
    "## Step 4 (Optional): Visualize the Neural Network's State with Test Images\n",
    "\n",
    " This Section is not required to complete but acts as an additional excersise for understaning the output of a neural network's weights. While neural networks can be a great learning device they are often referred to as a black box. We can understand what the weights of a neural network look like better by plotting their feature maps. After successfully training your neural network you can see what it's feature maps look like by plotting the output of the network's weight layers in response to a test stimuli image. From these plotted feature maps, it's possible to see what characteristics of an image the network finds interesting. For a sign, maybe the inner network feature maps react with high activation to the sign's boundary outline or to the contrast in the sign's painted symbol.\n",
    "\n",
    " Provided for you below is the function code that allows you to get the visualization output of any tensorflow weight layer you want. The inputs to the function should be a stimuli image, one used during training or a new one you provided, and then the tensorflow variable name that represents the layer's state during the training process, for instance if you wanted to see what the [LeNet lab's](https://classroom.udacity.com/nanodegrees/nd013/parts/fbf77062-5703-404e-b60c-95b78b2f3f9e/modules/6df7ae49-c61c-4bb2-a23e-6527e69209ec/lessons/601ae704-1035-4287-8b11-e2c2716217ad/concepts/d4aca031-508f-4e0b-b493-e7b706120f81) feature maps looked like for it's second convolutional layer you could enter conv2 as the tf_activation variable.\n",
    "\n",
    "For an example of what feature map outputs look like, check out NVIDIA's results in their paper [End-to-End Deep Learning for Self-Driving Cars](https://devblogs.nvidia.com/parallelforall/deep-learning-self-driving-cars/) in the section Visualization of internal CNN State. NVIDIA was able to show that their network's inner weights had high activations to road boundary lines by comparing feature maps from an image with a clear path to one without. Try experimenting with a similar test to show that your trained network's weights are looking for interesting features, whether it's looking at differences in feature maps from images with or without a sign, or even what feature maps look like in a trained network vs a completely untrained one on the same sign image.\n",
    "\n",
    "<figure>\n",
    " <img src=\"visualize_cnn.png\" width=\"380\" alt=\"Combined Image\" />\n",
    " <figcaption>\n",
    " <p></p> \n",
    " <p style=\"text-align: center;\"> Your output should look something like this (above)</p> \n",
    " </figcaption>\n",
    "</figure>\n",
    " <p></p> \n"
   ]
  },
  {
   "cell_type": "code",
   "execution_count": 22,
   "metadata": {
    "collapsed": true
   },
   "outputs": [],
   "source": [
    "### Visualize your network's feature maps here.\n",
    "### Feel free to use as many code cells as needed.\n",
    "\n",
    "# image_input: the test image being fed into the network to produce the feature maps\n",
    "# tf_activation: should be a tf variable name used during your training procedure that represents the calculated state of a specific weight layer\n",
    "# activation_min/max: can be used to view the activation contrast in more detail, by default matplot sets min and max to the actual min and max values of the output\n",
    "# plt_num: used to plot out multiple different weight feature map sets on the same block, just extend the plt number for each new feature map entry\n",
    "\n",
    "def outputFeatureMap(image_input, tf_activation, activation_min=-1, activation_max=-1 ,plt_num=1):\n",
    "    # Here make sure to preprocess your image_input in a way your network expects\n",
    "    # with size, normalization, ect if needed\n",
    "    # image_input =\n",
    "    # Note: x should be the same name as your network's tensorflow data placeholder variable\n",
    "    # If you get an error tf_activation is not defined it may be having trouble accessing the variable from inside a function\n",
    "    activation = tf_activation.eval(session=sess,feed_dict={x : image_input})\n",
    "    featuremaps = activation.shape[3]\n",
    "    plt.figure(plt_num, figsize=(15,15))\n",
    "    for featuremap in range(featuremaps):\n",
    "        plt.subplot(6,8, featuremap+1) # sets the number of feature maps to show on each row and column\n",
    "        plt.title('FeatureMap ' + str(featuremap)) # displays the feature map number\n",
    "        if activation_min != -1 & activation_max != -1:\n",
    "            plt.imshow(activation[0,:,:, featuremap], interpolation=\"nearest\", vmin =activation_min, vmax=activation_max, cmap=\"gray\")\n",
    "        elif activation_max != -1:\n",
    "            plt.imshow(activation[0,:,:, featuremap], interpolation=\"nearest\", vmax=activation_max, cmap=\"gray\")\n",
    "        elif activation_min !=-1:\n",
    "            plt.imshow(activation[0,:,:, featuremap], interpolation=\"nearest\", vmin=activation_min, cmap=\"gray\")\n",
    "        else:\n",
    "            plt.imshow(activation[0,:,:, featuremap], interpolation=\"nearest\", cmap=\"gray\")"
   ]
  }
 ],
 "metadata": {
  "anaconda-cloud": {},
  "kernelspec": {
   "display_name": "Python 3",
   "language": "python",
   "name": "python3"
  },
  "language_info": {
   "codemirror_mode": {
    "name": "ipython",
    "version": 3
   },
   "file_extension": ".py",
   "mimetype": "text/x-python",
   "name": "python",
   "nbconvert_exporter": "python",
   "pygments_lexer": "ipython3",
   "version": "3.5.2"
  },
  "widgets": {
   "state": {},
   "version": "1.1.2"
  }
 },
 "nbformat": 4,
 "nbformat_minor": 1
}
